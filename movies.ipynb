{
 "cells": [
  {
   "cell_type": "code",
   "execution_count": null,
   "id": "62f8b9d6",
   "metadata": {},
   "outputs": [],
   "source": [
    "import pandas as pd\n",
    "import ast\n",
    "\n",
    "# loading the datasets\n",
    "\n",
    "df1 = pd.read_csv(\"netflix.csv\")\n",
    "df2 = pd.read_csv(\"amazon.csv\")\n",
    "df3 = pd.read_csv(\"disney.csv\")\n",
    "df4 = pd.read_csv(\"hbo.csv\")\n",
    "df5 = pd.read_csv(\"hulu.csv\")\n",
    "df6 = pd.read_csv(\"raku.csv\")\n",
    "\n"
   ]
  },
  {
   "cell_type": "code",
   "execution_count": null,
   "id": "87b25e2d",
   "metadata": {},
   "outputs": [],
   "source": [
    "# adding column in each dataset for ott platform \n",
    "\n",
    "df1['ott_platform'] = 'Netflix'\n",
    "df2['ott_platform'] = 'Amazon'\n",
    "df3['ott_platform'] = 'Disney'\n",
    "df4['ott_platform'] = 'HBO'\n",
    "df5['ott_platform'] = 'Hulu'\n",
    "df6['ott_platform'] = 'Raku'"
   ]
  },
  {
   "cell_type": "code",
   "execution_count": 3,
   "id": "318878e5",
   "metadata": {},
   "outputs": [
    {
     "name": "stdout",
     "output_type": "stream",
     "text": [
      "<class 'pandas.core.frame.DataFrame'>\n",
      "RangeIndex: 5850 entries, 0 to 5849\n",
      "Data columns (total 16 columns):\n",
      " #   Column                Non-Null Count  Dtype  \n",
      "---  ------                --------------  -----  \n",
      " 0   id                    5850 non-null   object \n",
      " 1   title                 5849 non-null   object \n",
      " 2   type                  5850 non-null   object \n",
      " 3   description           5832 non-null   object \n",
      " 4   release_year          5850 non-null   int64  \n",
      " 5   age_certification     3231 non-null   object \n",
      " 6   runtime               5850 non-null   int64  \n",
      " 7   genres                5850 non-null   object \n",
      " 8   production_countries  5850 non-null   object \n",
      " 9   seasons               2106 non-null   float64\n",
      " 10  imdb_id               5447 non-null   object \n",
      " 11  imdb_score            5368 non-null   float64\n",
      " 12  imdb_votes            5352 non-null   float64\n",
      " 13  tmdb_popularity       5759 non-null   float64\n",
      " 14  tmdb_score            5539 non-null   float64\n",
      " 15  ott_platform          5850 non-null   object \n",
      "dtypes: float64(5), int64(2), object(9)\n",
      "memory usage: 731.4+ KB\n"
     ]
    }
   ],
   "source": [
    "df1.info()"
   ]
  },
  {
   "cell_type": "code",
   "execution_count": 4,
   "id": "4141284d",
   "metadata": {},
   "outputs": [
    {
     "name": "stdout",
     "output_type": "stream",
     "text": [
      "<class 'pandas.core.frame.DataFrame'>\n",
      "RangeIndex: 10873 entries, 0 to 10872\n",
      "Data columns (total 16 columns):\n",
      " #   Column                Non-Null Count  Dtype  \n",
      "---  ------                --------------  -----  \n",
      " 0   id                    10873 non-null  object \n",
      " 1   title                 10873 non-null  object \n",
      " 2   type                  10873 non-null  object \n",
      " 3   description           10729 non-null  object \n",
      " 4   release_year          10873 non-null  int64  \n",
      " 5   age_certification     3688 non-null   object \n",
      " 6   runtime               10873 non-null  int64  \n",
      " 7   genres                10873 non-null  object \n",
      " 8   production_countries  10873 non-null  object \n",
      " 9   seasons               1551 non-null   float64\n",
      " 10  imdb_id               10172 non-null  object \n",
      " 11  imdb_score            9765 non-null   float64\n",
      " 12  imdb_votes            9753 non-null   float64\n",
      " 13  tmdb_popularity       10302 non-null  float64\n",
      " 14  tmdb_score            8747 non-null   float64\n",
      " 15  ott_platform          10873 non-null  object \n",
      "dtypes: float64(5), int64(2), object(9)\n",
      "memory usage: 1.3+ MB\n"
     ]
    }
   ],
   "source": [
    "df2.info()"
   ]
  },
  {
   "cell_type": "code",
   "execution_count": 5,
   "id": "59e793ac",
   "metadata": {},
   "outputs": [
    {
     "name": "stdout",
     "output_type": "stream",
     "text": [
      "<class 'pandas.core.frame.DataFrame'>\n",
      "RangeIndex: 1535 entries, 0 to 1534\n",
      "Data columns (total 16 columns):\n",
      " #   Column                Non-Null Count  Dtype  \n",
      "---  ------                --------------  -----  \n",
      " 0   id                    1535 non-null   object \n",
      " 1   title                 1535 non-null   object \n",
      " 2   type                  1535 non-null   object \n",
      " 3   description           1529 non-null   object \n",
      " 4   release_year          1535 non-null   int64  \n",
      " 5   age_certification     1210 non-null   object \n",
      " 6   runtime               1535 non-null   int64  \n",
      " 7   genres                1535 non-null   object \n",
      " 8   production_countries  1535 non-null   object \n",
      " 9   seasons               415 non-null    float64\n",
      " 10  imdb_id               1133 non-null   object \n",
      " 11  imdb_score            1108 non-null   float64\n",
      " 12  imdb_votes            1105 non-null   float64\n",
      " 13  tmdb_popularity       1524 non-null   float64\n",
      " 14  tmdb_score            1426 non-null   float64\n",
      " 15  ott_platform          1535 non-null   object \n",
      "dtypes: float64(5), int64(2), object(9)\n",
      "memory usage: 192.0+ KB\n"
     ]
    }
   ],
   "source": [
    "df3.info()"
   ]
  },
  {
   "cell_type": "code",
   "execution_count": 6,
   "id": "a6406560",
   "metadata": {},
   "outputs": [
    {
     "name": "stdout",
     "output_type": "stream",
     "text": [
      "<class 'pandas.core.frame.DataFrame'>\n",
      "RangeIndex: 3294 entries, 0 to 3293\n",
      "Data columns (total 16 columns):\n",
      " #   Column                Non-Null Count  Dtype  \n",
      "---  ------                --------------  -----  \n",
      " 0   id                    3294 non-null   object \n",
      " 1   title                 3294 non-null   object \n",
      " 2   type                  3294 non-null   object \n",
      " 3   description           3282 non-null   object \n",
      " 4   release_year          3294 non-null   int64  \n",
      " 5   age_certification     2086 non-null   object \n",
      " 6   runtime               3294 non-null   int64  \n",
      " 7   genres                3294 non-null   object \n",
      " 8   production_countries  3294 non-null   object \n",
      " 9   seasons               756 non-null    float64\n",
      " 10  imdb_id               2968 non-null   object \n",
      " 11  imdb_score            2922 non-null   float64\n",
      " 12  imdb_votes            2911 non-null   float64\n",
      " 13  tmdb_popularity       3261 non-null   float64\n",
      " 14  tmdb_score            3026 non-null   float64\n",
      " 15  ott_platform          3294 non-null   object \n",
      "dtypes: float64(5), int64(2), object(9)\n",
      "memory usage: 411.9+ KB\n"
     ]
    }
   ],
   "source": [
    "df4.info()"
   ]
  },
  {
   "cell_type": "code",
   "execution_count": 7,
   "id": "92a7c8b6",
   "metadata": {},
   "outputs": [
    {
     "name": "stdout",
     "output_type": "stream",
     "text": [
      "<class 'pandas.core.frame.DataFrame'>\n",
      "RangeIndex: 2398 entries, 0 to 2397\n",
      "Data columns (total 16 columns):\n",
      " #   Column                Non-Null Count  Dtype  \n",
      "---  ------                --------------  -----  \n",
      " 0   id                    2398 non-null   object \n",
      " 1   title                 2398 non-null   object \n",
      " 2   type                  2398 non-null   object \n",
      " 3   description           2385 non-null   object \n",
      " 4   release_year          2398 non-null   int64  \n",
      " 5   age_certification     1713 non-null   object \n",
      " 6   runtime               2398 non-null   int64  \n",
      " 7   genres                2398 non-null   object \n",
      " 8   production_countries  2398 non-null   object \n",
      " 9   seasons               1330 non-null   float64\n",
      " 10  imdb_id               2263 non-null   object \n",
      " 11  imdb_score            2232 non-null   float64\n",
      " 12  imdb_votes            2231 non-null   float64\n",
      " 13  tmdb_popularity       2348 non-null   float64\n",
      " 14  tmdb_score            2238 non-null   float64\n",
      " 15  ott_platform          2398 non-null   object \n",
      "dtypes: float64(5), int64(2), object(9)\n",
      "memory usage: 299.9+ KB\n"
     ]
    }
   ],
   "source": [
    "df5.info()"
   ]
  },
  {
   "cell_type": "code",
   "execution_count": 8,
   "id": "fa0e4421",
   "metadata": {},
   "outputs": [
    {
     "name": "stdout",
     "output_type": "stream",
     "text": [
      "<class 'pandas.core.frame.DataFrame'>\n",
      "RangeIndex: 1904 entries, 0 to 1903\n",
      "Data columns (total 16 columns):\n",
      " #   Column                Non-Null Count  Dtype  \n",
      "---  ------                --------------  -----  \n",
      " 0   id                    1904 non-null   object \n",
      " 1   title                 1904 non-null   object \n",
      " 2   type                  1904 non-null   object \n",
      " 3   description           1824 non-null   object \n",
      " 4   release_year          1904 non-null   int64  \n",
      " 5   age_certification     273 non-null    object \n",
      " 6   runtime               1904 non-null   int64  \n",
      " 7   genres                1904 non-null   object \n",
      " 8   production_countries  1904 non-null   object \n",
      " 9   seasons               1470 non-null   float64\n",
      " 10  imdb_id               1456 non-null   object \n",
      " 11  imdb_score            1370 non-null   float64\n",
      " 12  imdb_votes            1370 non-null   float64\n",
      " 13  tmdb_popularity       1842 non-null   float64\n",
      " 14  tmdb_score            1505 non-null   float64\n",
      " 15  ott_platform          1904 non-null   object \n",
      "dtypes: float64(5), int64(2), object(9)\n",
      "memory usage: 238.1+ KB\n"
     ]
    }
   ],
   "source": [
    "df6.info()"
   ]
  },
  {
   "cell_type": "code",
   "execution_count": null,
   "id": "bfedaa26",
   "metadata": {},
   "outputs": [],
   "source": [
    "# taking only the required columns \n",
    "\n",
    "df11 = df1[['title', 'type', 'release_year', 'age_certification', 'runtime', 'genres', 'production_countries', 'imdb_score', 'imdb_votes', \n",
    "            'ott_platform']]\n",
    "\n",
    "df22 = df2[['title', 'type', 'release_year', 'age_certification', 'runtime', 'genres', 'production_countries', 'imdb_score', 'imdb_votes', \n",
    "            'ott_platform']]\n",
    "\n",
    "df33 = df3[['title', 'type', 'release_year', 'age_certification', 'runtime', 'genres', 'production_countries', 'imdb_score', 'imdb_votes', \n",
    "            'ott_platform']]\n",
    "\n",
    "df44 = df4[['title', 'type', 'release_year', 'age_certification', 'runtime', 'genres', 'production_countries', 'imdb_score', 'imdb_votes', \n",
    "            'ott_platform']]\n",
    "\n",
    "df55 = df5[['title', 'type', 'release_year', 'age_certification', 'runtime', 'genres', 'production_countries', 'imdb_score', 'imdb_votes', \n",
    "            'ott_platform']]\n",
    "\n",
    "df66 = df6[['title', 'type', 'release_year', 'age_certification', 'runtime', 'genres', 'production_countries', 'imdb_score', 'imdb_votes', \n",
    "            'ott_platform']]"
   ]
  },
  {
   "cell_type": "code",
   "execution_count": null,
   "id": "0f6721d9",
   "metadata": {},
   "outputs": [],
   "source": [
    "# combining every dataset to make a final dataset\n",
    "\n",
    "combined_df = pd.concat([df11, df22, df33, df44, df55, df66], ignore_index=True)"
   ]
  },
  {
   "cell_type": "code",
   "execution_count": 11,
   "id": "055a7a24",
   "metadata": {},
   "outputs": [
    {
     "name": "stdout",
     "output_type": "stream",
     "text": [
      "<class 'pandas.core.frame.DataFrame'>\n",
      "RangeIndex: 25854 entries, 0 to 25853\n",
      "Data columns (total 10 columns):\n",
      " #   Column                Non-Null Count  Dtype  \n",
      "---  ------                --------------  -----  \n",
      " 0   title                 25853 non-null  object \n",
      " 1   type                  25854 non-null  object \n",
      " 2   release_year          25854 non-null  int64  \n",
      " 3   age_certification     12201 non-null  object \n",
      " 4   runtime               25854 non-null  int64  \n",
      " 5   genres                25854 non-null  object \n",
      " 6   production_countries  25854 non-null  object \n",
      " 7   imdb_score            22765 non-null  float64\n",
      " 8   imdb_votes            22722 non-null  float64\n",
      " 9   ott_platform          25854 non-null  object \n",
      "dtypes: float64(2), int64(2), object(6)\n",
      "memory usage: 2.0+ MB\n"
     ]
    }
   ],
   "source": [
    "combined_df.info()"
   ]
  },
  {
   "cell_type": "code",
   "execution_count": 12,
   "id": "725eaa44",
   "metadata": {},
   "outputs": [
    {
     "data": {
      "text/html": [
       "<div>\n",
       "<style scoped>\n",
       "    .dataframe tbody tr th:only-of-type {\n",
       "        vertical-align: middle;\n",
       "    }\n",
       "\n",
       "    .dataframe tbody tr th {\n",
       "        vertical-align: top;\n",
       "    }\n",
       "\n",
       "    .dataframe thead th {\n",
       "        text-align: right;\n",
       "    }\n",
       "</style>\n",
       "<table border=\"1\" class=\"dataframe\">\n",
       "  <thead>\n",
       "    <tr style=\"text-align: right;\">\n",
       "      <th></th>\n",
       "      <th>release_year</th>\n",
       "      <th>runtime</th>\n",
       "      <th>imdb_score</th>\n",
       "      <th>imdb_votes</th>\n",
       "    </tr>\n",
       "  </thead>\n",
       "  <tbody>\n",
       "    <tr>\n",
       "      <th>count</th>\n",
       "      <td>25854.000000</td>\n",
       "      <td>25854.000000</td>\n",
       "      <td>22765.000000</td>\n",
       "      <td>2.272200e+04</td>\n",
       "    </tr>\n",
       "    <tr>\n",
       "      <th>mean</th>\n",
       "      <td>2008.275470</td>\n",
       "      <td>77.745339</td>\n",
       "      <td>6.384652</td>\n",
       "      <td>2.421962e+04</td>\n",
       "    </tr>\n",
       "    <tr>\n",
       "      <th>std</th>\n",
       "      <td>20.391029</td>\n",
       "      <td>37.261919</td>\n",
       "      <td>1.292754</td>\n",
       "      <td>9.969027e+04</td>\n",
       "    </tr>\n",
       "    <tr>\n",
       "      <th>min</th>\n",
       "      <td>1901.000000</td>\n",
       "      <td>0.000000</td>\n",
       "      <td>1.000000</td>\n",
       "      <td>5.000000e+00</td>\n",
       "    </tr>\n",
       "    <tr>\n",
       "      <th>25%</th>\n",
       "      <td>2008.000000</td>\n",
       "      <td>47.000000</td>\n",
       "      <td>5.600000</td>\n",
       "      <td>2.050000e+02</td>\n",
       "    </tr>\n",
       "    <tr>\n",
       "      <th>50%</th>\n",
       "      <td>2016.000000</td>\n",
       "      <td>84.000000</td>\n",
       "      <td>6.500000</td>\n",
       "      <td>1.183000e+03</td>\n",
       "    </tr>\n",
       "    <tr>\n",
       "      <th>75%</th>\n",
       "      <td>2020.000000</td>\n",
       "      <td>101.000000</td>\n",
       "      <td>7.300000</td>\n",
       "      <td>7.505000e+03</td>\n",
       "    </tr>\n",
       "    <tr>\n",
       "      <th>max</th>\n",
       "      <td>2023.000000</td>\n",
       "      <td>940.000000</td>\n",
       "      <td>9.900000</td>\n",
       "      <td>2.555504e+06</td>\n",
       "    </tr>\n",
       "  </tbody>\n",
       "</table>\n",
       "</div>"
      ],
      "text/plain": [
       "       release_year       runtime    imdb_score    imdb_votes\n",
       "count  25854.000000  25854.000000  22765.000000  2.272200e+04\n",
       "mean    2008.275470     77.745339      6.384652  2.421962e+04\n",
       "std       20.391029     37.261919      1.292754  9.969027e+04\n",
       "min     1901.000000      0.000000      1.000000  5.000000e+00\n",
       "25%     2008.000000     47.000000      5.600000  2.050000e+02\n",
       "50%     2016.000000     84.000000      6.500000  1.183000e+03\n",
       "75%     2020.000000    101.000000      7.300000  7.505000e+03\n",
       "max     2023.000000    940.000000      9.900000  2.555504e+06"
      ]
     },
     "execution_count": 12,
     "metadata": {},
     "output_type": "execute_result"
    }
   ],
   "source": [
    "combined_df.describe()"
   ]
  },
  {
   "cell_type": "code",
   "execution_count": 13,
   "id": "400a23fd",
   "metadata": {},
   "outputs": [
    {
     "data": {
      "text/html": [
       "<div>\n",
       "<style scoped>\n",
       "    .dataframe tbody tr th:only-of-type {\n",
       "        vertical-align: middle;\n",
       "    }\n",
       "\n",
       "    .dataframe tbody tr th {\n",
       "        vertical-align: top;\n",
       "    }\n",
       "\n",
       "    .dataframe thead th {\n",
       "        text-align: right;\n",
       "    }\n",
       "</style>\n",
       "<table border=\"1\" class=\"dataframe\">\n",
       "  <thead>\n",
       "    <tr style=\"text-align: right;\">\n",
       "      <th></th>\n",
       "      <th>title</th>\n",
       "      <th>type</th>\n",
       "      <th>release_year</th>\n",
       "      <th>age_certification</th>\n",
       "      <th>runtime</th>\n",
       "      <th>genres</th>\n",
       "      <th>production_countries</th>\n",
       "      <th>imdb_score</th>\n",
       "      <th>imdb_votes</th>\n",
       "      <th>ott_platform</th>\n",
       "    </tr>\n",
       "  </thead>\n",
       "  <tbody>\n",
       "    <tr>\n",
       "      <th>22955</th>\n",
       "      <td>The Kids Are Alright</td>\n",
       "      <td>SHOW</td>\n",
       "      <td>2018</td>\n",
       "      <td>TV-PG</td>\n",
       "      <td>21</td>\n",
       "      <td>['comedy']</td>\n",
       "      <td>['US']</td>\n",
       "      <td>7.9</td>\n",
       "      <td>3349.0</td>\n",
       "      <td>Hulu</td>\n",
       "    </tr>\n",
       "    <tr>\n",
       "      <th>329</th>\n",
       "      <td>The 4400</td>\n",
       "      <td>SHOW</td>\n",
       "      <td>2004</td>\n",
       "      <td>TV-14</td>\n",
       "      <td>44</td>\n",
       "      <td>['drama', 'scifi', 'thriller']</td>\n",
       "      <td>['US']</td>\n",
       "      <td>7.3</td>\n",
       "      <td>45249.0</td>\n",
       "      <td>Netflix</td>\n",
       "    </tr>\n",
       "    <tr>\n",
       "      <th>13801</th>\n",
       "      <td>Petromax</td>\n",
       "      <td>MOVIE</td>\n",
       "      <td>2019</td>\n",
       "      <td>PG-13</td>\n",
       "      <td>128</td>\n",
       "      <td>['horror', 'comedy']</td>\n",
       "      <td>['IN']</td>\n",
       "      <td>5.3</td>\n",
       "      <td>416.0</td>\n",
       "      <td>Amazon</td>\n",
       "    </tr>\n",
       "    <tr>\n",
       "      <th>22917</th>\n",
       "      <td>The Limehouse Golem</td>\n",
       "      <td>MOVIE</td>\n",
       "      <td>2017</td>\n",
       "      <td>NaN</td>\n",
       "      <td>109</td>\n",
       "      <td>['thriller', 'horror', 'crime']</td>\n",
       "      <td>['GB']</td>\n",
       "      <td>6.3</td>\n",
       "      <td>21055.0</td>\n",
       "      <td>Hulu</td>\n",
       "    </tr>\n",
       "    <tr>\n",
       "      <th>7670</th>\n",
       "      <td>Gallagher: Mad As Hell</td>\n",
       "      <td>MOVIE</td>\n",
       "      <td>1981</td>\n",
       "      <td>R</td>\n",
       "      <td>95</td>\n",
       "      <td>['comedy']</td>\n",
       "      <td>['US']</td>\n",
       "      <td>7.2</td>\n",
       "      <td>56.0</td>\n",
       "      <td>Amazon</td>\n",
       "    </tr>\n",
       "  </tbody>\n",
       "</table>\n",
       "</div>"
      ],
      "text/plain": [
       "                        title   type  release_year age_certification  runtime  \\\n",
       "22955    The Kids Are Alright   SHOW          2018             TV-PG       21   \n",
       "329                  The 4400   SHOW          2004             TV-14       44   \n",
       "13801                Petromax  MOVIE          2019             PG-13      128   \n",
       "22917     The Limehouse Golem  MOVIE          2017               NaN      109   \n",
       "7670   Gallagher: Mad As Hell  MOVIE          1981                 R       95   \n",
       "\n",
       "                                genres production_countries  imdb_score  \\\n",
       "22955                       ['comedy']               ['US']         7.9   \n",
       "329     ['drama', 'scifi', 'thriller']               ['US']         7.3   \n",
       "13801             ['horror', 'comedy']               ['IN']         5.3   \n",
       "22917  ['thriller', 'horror', 'crime']               ['GB']         6.3   \n",
       "7670                        ['comedy']               ['US']         7.2   \n",
       "\n",
       "       imdb_votes ott_platform  \n",
       "22955      3349.0         Hulu  \n",
       "329       45249.0      Netflix  \n",
       "13801       416.0       Amazon  \n",
       "22917     21055.0         Hulu  \n",
       "7670         56.0       Amazon  "
      ]
     },
     "execution_count": 13,
     "metadata": {},
     "output_type": "execute_result"
    }
   ],
   "source": [
    "combined_df.sample(5)"
   ]
  },
  {
   "cell_type": "code",
   "execution_count": null,
   "id": "d61a2973",
   "metadata": {},
   "outputs": [],
   "source": [
    "combined_df1 = combined_df.copy()\n",
    "\n",
    "# creating a new dataset to explode some column values\n",
    " \n",
    "# Safely convert strings like \"['action', 'drama']\" into real lists\n",
    "combined_df1['genres'] = combined_df1['genres'].apply(lambda x: ast.literal_eval(x) if pd.notna(x) else [])\n",
    "combined_df1['production_countries'] = combined_df1['production_countries'].apply(lambda x: ast.literal_eval(x) if pd.notna(x) else [])\n",
    "\n",
    "# Explode genres and production_countries\n",
    "combined_df1 = combined_df1.explode('genres').explode('production_countries')\n",
    "\n",
    "# Handle NaNs in both the datasets \n",
    "# df['age_certification'] = df['age_certification'].fillna('Unrated')\n",
    "combined_df1['imdb_score'] = combined_df1['imdb_score'].fillna(0)\n",
    "combined_df1['imdb_votes'] = combined_df1['imdb_votes'].fillna(0)\n",
    "\n",
    "combined_df['imdb_score'] = combined_df['imdb_score'].fillna(0)\n",
    "combined_df['imdb_votes'] = combined_df['imdb_votes'].fillna(0)"
   ]
  },
  {
   "cell_type": "code",
   "execution_count": 15,
   "id": "d07d2632",
   "metadata": {},
   "outputs": [
    {
     "name": "stdout",
     "output_type": "stream",
     "text": [
      "<class 'pandas.core.frame.DataFrame'>\n",
      "RangeIndex: 25854 entries, 0 to 25853\n",
      "Data columns (total 10 columns):\n",
      " #   Column                Non-Null Count  Dtype  \n",
      "---  ------                --------------  -----  \n",
      " 0   title                 25853 non-null  object \n",
      " 1   type                  25854 non-null  object \n",
      " 2   release_year          25854 non-null  int64  \n",
      " 3   age_certification     12201 non-null  object \n",
      " 4   runtime               25854 non-null  int64  \n",
      " 5   genres                25854 non-null  object \n",
      " 6   production_countries  25854 non-null  object \n",
      " 7   imdb_score            25854 non-null  float64\n",
      " 8   imdb_votes            25854 non-null  float64\n",
      " 9   ott_platform          25854 non-null  object \n",
      "dtypes: float64(2), int64(2), object(6)\n",
      "memory usage: 2.0+ MB\n"
     ]
    }
   ],
   "source": [
    "combined_df.info()"
   ]
  },
  {
   "cell_type": "code",
   "execution_count": 16,
   "id": "6e65310c",
   "metadata": {},
   "outputs": [
    {
     "name": "stdout",
     "output_type": "stream",
     "text": [
      "<class 'pandas.core.frame.DataFrame'>\n",
      "Index: 75137 entries, 0 to 25853\n",
      "Data columns (total 10 columns):\n",
      " #   Column                Non-Null Count  Dtype  \n",
      "---  ------                --------------  -----  \n",
      " 0   title                 75136 non-null  object \n",
      " 1   type                  75137 non-null  object \n",
      " 2   release_year          75137 non-null  int64  \n",
      " 3   age_certification     42711 non-null  object \n",
      " 4   runtime               75137 non-null  int64  \n",
      " 5   genres                74641 non-null  object \n",
      " 6   production_countries  73309 non-null  object \n",
      " 7   imdb_score            75137 non-null  float64\n",
      " 8   imdb_votes            75137 non-null  float64\n",
      " 9   ott_platform          75137 non-null  object \n",
      "dtypes: float64(2), int64(2), object(6)\n",
      "memory usage: 6.3+ MB\n"
     ]
    }
   ],
   "source": [
    "combined_df1.info()"
   ]
  },
  {
   "cell_type": "code",
   "execution_count": null,
   "id": "ccab0811",
   "metadata": {},
   "outputs": [],
   "source": [
    "# saving the dataframes for tableau visualization\n",
    "\n",
    "# combined_df.to_csv('movies_data.csv', index=False)\n",
    "# combined_df1.to_csv('movies_data_2.csv', index=False)\n",
    "\n",
    "combined_df.to_excel('movies_data.xlsx', index=False)\n",
    "combined_df1.to_excel('movies_data_2.xlsx', index=False)"
   ]
  },
  {
   "cell_type": "code",
   "execution_count": null,
   "id": "23e2749b",
   "metadata": {},
   "outputs": [],
   "source": []
  },
  {
   "cell_type": "code",
   "execution_count": null,
   "id": "06744951",
   "metadata": {},
   "outputs": [],
   "source": []
  }
 ],
 "metadata": {
  "kernelspec": {
   "display_name": "base",
   "language": "python",
   "name": "python3"
  },
  "language_info": {
   "codemirror_mode": {
    "name": "ipython",
    "version": 3
   },
   "file_extension": ".py",
   "mimetype": "text/x-python",
   "name": "python",
   "nbconvert_exporter": "python",
   "pygments_lexer": "ipython3",
   "version": "3.11.0"
  }
 },
 "nbformat": 4,
 "nbformat_minor": 5
}
